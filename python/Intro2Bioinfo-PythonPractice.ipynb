{
 "cells": [
  {
   "cell_type": "code",
   "execution_count": 6,
   "metadata": {
    "collapsed": false
   },
   "outputs": [
    {
     "name": "stdout",
     "output_type": "stream",
     "text": [
      "ATGCATGCATGCATGCATGC\n",
      "20\n",
      "5\n"
     ]
    }
   ],
   "source": [
    "tmp_seq = 'ATGCATGCATGCATGCATGC'\n",
    "print(tmp_seq)\n",
    "print( len(tmp_seq) )\n",
    "count_A = 0\n",
    "for tmp_n in tmp_seq:\n",
    "    if tmp_n == 'A':\n",
    "        count_A += 1\n",
    "print(count_A)"
   ]
  },
  {
   "cell_type": "code",
   "execution_count": 10,
   "metadata": {
    "collapsed": false
   },
   "outputs": [
    {
     "name": "stdout",
     "output_type": "stream",
     "text": [
      "5 5\n"
     ]
    }
   ],
   "source": [
    "count_A = 0\n",
    "count_AT = 0\n",
    "for tmp_pos in range(0,len(tmp_seq)):\n",
    "    if tmp_seq[tmp_pos] == 'A':\n",
    "        count_A += 1\n",
    "    if tmp_seq[tmp_pos] == 'A' and tmp_seq[tmp_pos+1] == 'T':\n",
    "        count_AT += 1\n",
    "print(count_A, count_AT)"
   ]
  },
  {
   "cell_type": "code",
   "execution_count": 11,
   "metadata": {
    "collapsed": false
   },
   "outputs": [
    {
     "name": "stdout",
     "output_type": "stream",
     "text": [
      "5 5\n"
     ]
    }
   ],
   "source": [
    "print(tmp_seq.count('A'), tmp_seq.count('AT'))"
   ]
  },
  {
   "cell_type": "code",
   "execution_count": null,
   "metadata": {
    "collapsed": true
   },
   "outputs": [],
   "source": []
  }
 ],
 "metadata": {
  "kernelspec": {
   "display_name": "Python 3",
   "language": "python",
   "name": "python3"
  },
  "language_info": {
   "codemirror_mode": {
    "name": "ipython",
    "version": 3
   },
   "file_extension": ".py",
   "mimetype": "text/x-python",
   "name": "python",
   "nbconvert_exporter": "python",
   "pygments_lexer": "ipython3",
   "version": "3.6.0"
  }
 },
 "nbformat": 4,
 "nbformat_minor": 2
}
