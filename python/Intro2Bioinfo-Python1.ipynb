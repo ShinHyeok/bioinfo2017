{
 "cells": [
  {
   "cell_type": "markdown",
   "metadata": {},
   "source": [
    "## Numbers"
   ]
  },
  {
   "cell_type": "code",
   "execution_count": 5,
   "metadata": {
    "collapsed": false
   },
   "outputs": [
    {
     "name": "stdout",
     "output_type": "stream",
     "text": [
      "13\n"
     ]
    }
   ],
   "source": [
    "a = 10\n",
    "b = 3\n",
    "print(a+b)"
   ]
  },
  {
   "cell_type": "code",
   "execution_count": 2,
   "metadata": {
    "collapsed": false
   },
   "outputs": [
    {
     "name": "stdout",
     "output_type": "stream",
     "text": [
      "7 30 3.3333333333333335\n"
     ]
    }
   ],
   "source": [
    "print(a-b, a*b, a/b)"
   ]
  },
  {
   "cell_type": "code",
   "execution_count": 3,
   "metadata": {
    "collapsed": false
   },
   "outputs": [
    {
     "name": "stdout",
     "output_type": "stream",
     "text": [
      "1 1000\n"
     ]
    }
   ],
   "source": [
    "print(a%b, a**b)"
   ]
  },
  {
   "cell_type": "code",
   "execution_count": 4,
   "metadata": {
    "collapsed": false
   },
   "outputs": [
    {
     "name": "stdout",
     "output_type": "stream",
     "text": [
      "3.33\n"
     ]
    }
   ],
   "source": [
    "print(\"%.2f\"%(a/b))"
   ]
  },
  {
   "cell_type": "markdown",
   "metadata": {},
   "source": [
    "## Strings"
   ]
  },
  {
   "cell_type": "code",
   "execution_count": 6,
   "metadata": {
    "collapsed": false
   },
   "outputs": [
    {
     "name": "stdout",
     "output_type": "stream",
     "text": [
      "helloworld\n",
      "hello+world\n"
     ]
    }
   ],
   "source": [
    "x = 'hello'\n",
    "y = 'world'\n",
    "print(x+y)\n",
    "print('%s+%s'%(x,y))"
   ]
  },
  {
   "cell_type": "code",
   "execution_count": 7,
   "metadata": {
    "collapsed": false
   },
   "outputs": [
    {
     "name": "stdout",
     "output_type": "stream",
     "text": [
      "5\n",
      "he\t\to\n"
     ]
    }
   ],
   "source": [
    "print(len(x))\n",
    "print(\"\\t\".join(x.split('l')))"
   ]
  },
  {
   "cell_type": "code",
   "execution_count": 8,
   "metadata": {
    "collapsed": false
   },
   "outputs": [
    {
     "name": "stdout",
     "output_type": "stream",
     "text": [
      "1.Hello\n",
      "2.Hello\n",
      "\n",
      "3.Hello\\n\n",
      "4.Hello\n",
      "\n",
      "\n",
      "5.Hello\n",
      "6.Hello\tWorld\n"
     ]
    }
   ],
   "source": [
    "print(\"1.Hello\")\n",
    "print(\"2.Hello\\n\")\n",
    "print(\"3.Hello\\\\n\")\n",
    "print(\"4.Hello\\n\\n\")\n",
    "print(\"5.Hello\\n\\n\".strip())\n",
    "print(\"6.Hello\\tWorld\")"
   ]
  },
  {
   "cell_type": "markdown",
   "metadata": {},
   "source": [
    "## List"
   ]
  },
  {
   "cell_type": "code",
   "execution_count": 9,
   "metadata": {
    "collapsed": false
   },
   "outputs": [
    {
     "name": "stdout",
     "output_type": "stream",
     "text": [
      "3 apple banana grape\n",
      "['apple', 'banana']\n",
      "['apple', 'banana', 'orange']\n",
      "['apple', 'banana']\n",
      "['orange', 'banana', 'apple']\n"
     ]
    }
   ],
   "source": [
    "a = ['apple','banana','grape']\n",
    "print(len(a), a[0], a[1],a[-1])\n",
    "a.pop()\n",
    "print(a)\n",
    "a.append('orange')\n",
    "print(a)\n",
    "print(a[:2])\n",
    "print(a[::-1])"
   ]
  },
  {
   "cell_type": "code",
   "execution_count": 10,
   "metadata": {
    "collapsed": false
   },
   "outputs": [
    {
     "name": "stdout",
     "output_type": "stream",
     "text": [
      "[2, 8, 4, 3, 2, 4, 1]\n",
      "[1, 2, 2, 3, 4, 4, 8]\n",
      "24\n",
      "{1, 2, 3, 4, 8}\n",
      "[1, 2, 3, 4, 8]\n",
      "[2, 8, 4, 3, 2, 4]\n",
      "[2, 8, 4, 3, 2, 4]\n"
     ]
    }
   ],
   "source": [
    "b = [2,8,4,3,2,4,1]\n",
    "print(b)\n",
    "print(sorted(b))\n",
    "print(sum(b))\n",
    "c = set(b)\n",
    "print(c)\n",
    "print(list(set(c)))\n",
    "d = b\n",
    "d.pop()\n",
    "print(d)\n",
    "print(b)"
   ]
  },
  {
   "cell_type": "markdown",
   "metadata": {},
   "source": [
    "## Dictionary"
   ]
  },
  {
   "cell_type": "code",
   "execution_count": 6,
   "metadata": {
    "collapsed": false
   },
   "outputs": [
    {
     "name": "stdout",
     "output_type": "stream",
     "text": [
      "{'jack': 4098, 'sape': 4139}\n",
      "{'jack': 4098, 'sape': 4139, 'quido': 4127}\n",
      "4127\n",
      "{'jack': 4098, 'quido': 4127}\n",
      "jack,quido\n",
      "4098,4127\n"
     ]
    }
   ],
   "source": [
    "tel = {'jack':4098, 'sape':4139}\n",
    "print(tel)\n",
    "tel['quido'] = 4127\n",
    "print(tel)\n",
    "print(tel['quido'])\n",
    "del tel['sape']\n",
    "print(tel)\n",
    "print(\",\".join(tel.keys()))\n",
    "print(\",\".join(['%d'%x for x in tel.values()]))"
   ]
  },
  {
   "cell_type": "markdown",
   "metadata": {},
   "source": [
    "## Loop"
   ]
  },
  {
   "cell_type": "code",
   "execution_count": 10,
   "metadata": {
    "collapsed": false
   },
   "outputs": [
    {
     "name": "stdout",
     "output_type": "stream",
     "text": [
      "Even\n",
      "Odd\n",
      "Even\n",
      "Odd\n",
      "Even\n",
      "Odd\n",
      "Even\n",
      "Odd\n",
      "Even\n",
      "Odd\n"
     ]
    }
   ],
   "source": [
    "for i in [0,1,2,3,4,5,6,7,8,9]:\n",
    "    if i%2 == 0:\n",
    "        print(\"Even\")\n",
    "    else:\n",
    "        print(\"Odd\")"
   ]
  },
  {
   "cell_type": "code",
   "execution_count": 13,
   "metadata": {
    "collapsed": false
   },
   "outputs": [
    {
     "name": "stdout",
     "output_type": "stream",
     "text": [
      "Even\n",
      "Odd\n",
      "Even\n",
      "Odd\n",
      "Even\n",
      "Odd\n",
      "Even\n",
      "Odd\n",
      "Even\n",
      "Odd\n"
     ]
    }
   ],
   "source": [
    "#Same: for i in range(10)\n",
    "for i in range(0,10):\n",
    "    if i%2 == 0:\n",
    "        print(\"Even\")\n",
    "    else:\n",
    "        print(\"Odd\")"
   ]
  },
  {
   "cell_type": "code",
   "execution_count": 19,
   "metadata": {
    "collapsed": false
   },
   "outputs": [
    {
     "name": "stdout",
     "output_type": "stream",
     "text": [
      "1\n",
      "2\n",
      "3\n",
      "4\n",
      "5\n",
      "8\n",
      "9\n"
     ]
    }
   ],
   "source": [
    "i = 1\n",
    "while i < 10:\n",
    "    print(i)\n",
    "    if i == 5:\n",
    "        i = i + 2\n",
    "    i += 1"
   ]
  },
  {
   "cell_type": "code",
   "execution_count": 20,
   "metadata": {
    "collapsed": false
   },
   "outputs": [
    {
     "name": "stdout",
     "output_type": "stream",
     "text": [
      "1\n",
      "2\n",
      "3\n",
      "4\n",
      "5\n"
     ]
    }
   ],
   "source": [
    "i = 1\n",
    "while i < 10:\n",
    "    print(i)\n",
    "    if i == 5:\n",
    "        i = i + 2\n",
    "        break\n",
    "    i += 1"
   ]
  },
  {
   "cell_type": "code",
   "execution_count": 21,
   "metadata": {
    "collapsed": false
   },
   "outputs": [
    {
     "name": "stdout",
     "output_type": "stream",
     "text": [
      "1\n",
      "2\n",
      "3\n",
      "4\n",
      "5\n",
      "7\n",
      "8\n",
      "9\n"
     ]
    }
   ],
   "source": [
    "i = 1\n",
    "while i < 10:\n",
    "    print(i)\n",
    "    if i == 5:\n",
    "        i = i + 2\n",
    "        continue\n",
    "    i += 1"
   ]
  },
  {
   "cell_type": "code",
   "execution_count": 1,
   "metadata": {
    "collapsed": false
   },
   "outputs": [
    {
     "name": "stdout",
     "output_type": "stream",
     "text": [
      "A\n",
      "A\n",
      "A\n",
      "C\n",
      "A\n",
      "B\n",
      "C\n",
      "B\n",
      "B\n",
      "B\n",
      "B\n",
      "C\n",
      "A\n",
      "A\n",
      "B\n"
     ]
    }
   ],
   "source": [
    "import random\n",
    "door_list = ['A','B','C']\n",
    "for i in range(0,15):\n",
    "    print( random.choice(door_list) )"
   ]
  },
  {
   "cell_type": "code",
   "execution_count": null,
   "metadata": {
    "collapsed": true
   },
   "outputs": [],
   "source": []
  }
 ],
 "metadata": {
  "kernelspec": {
   "display_name": "Python 3",
   "language": "python",
   "name": "python3"
  },
  "language_info": {
   "codemirror_mode": {
    "name": "ipython",
    "version": 3
   },
   "file_extension": ".py",
   "mimetype": "text/x-python",
   "name": "python",
   "nbconvert_exporter": "python",
   "pygments_lexer": "ipython3",
   "version": "3.6.0"
  }
 },
 "nbformat": 4,
 "nbformat_minor": 2
}
