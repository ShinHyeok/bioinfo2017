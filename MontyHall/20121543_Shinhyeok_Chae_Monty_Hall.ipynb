{
 "cells": [
  {
   "cell_type": "code",
   "execution_count": 3,
   "metadata": {
    "collapsed": false
   },
   "outputs": [
    {
     "name": "stdout",
     "output_type": "stream",
     "text": [
      "The probability of opening door having car is 0.66899\n"
     ]
    }
   ],
   "source": [
    "import random\n",
    "from random import shuffle\n",
    "\n",
    "y = ['o','x','x']\n",
    "try_num = 100000\n",
    "\n",
    "shuffle(y)\n",
    "point = 0.\n",
    "\n",
    "for i in range(0,try_num):\n",
    "    pick = [0,1,2]\n",
    "    chosen = random.choice(pick)\n",
    "    if y[chosen] == 'x':\n",
    "        pick.remove(chosen)\n",
    "        new_chosen = random.choice(pick)\n",
    "        if y[new_chosen] == 'x':\n",
    "            pick.remove(new_chosen)\n",
    "            new_chosen = pick[0]\n",
    "    elif y[chosen] == 'o':\n",
    "        if chosen in pick:\n",
    "            pick.remove(chosen)\n",
    "        new_chosen = random.choice(pick)\n",
    "        \n",
    "    if y[new_chosen] == 'o':\n",
    "        point2 += 1\n",
    "print ('The probability of opening door having car is %s'%str(point/try_num))\n",
    "        "
   ]
  },
  {
   "cell_type": "code",
   "execution_count": null,
   "metadata": {
    "collapsed": true
   },
   "outputs": [],
   "source": []
  },
  {
   "cell_type": "code",
   "execution_count": null,
   "metadata": {
    "collapsed": true
   },
   "outputs": [],
   "source": []
  }
 ],
 "metadata": {
  "kernelspec": {
   "display_name": "Python 2",
   "language": "python",
   "name": "python2"
  },
  "language_info": {
   "codemirror_mode": {
    "name": "ipython",
    "version": 2
   },
   "file_extension": ".py",
   "mimetype": "text/x-python",
   "name": "python",
   "nbconvert_exporter": "python",
   "pygments_lexer": "ipython2",
   "version": "2.7.13"
  }
 },
 "nbformat": 4,
 "nbformat_minor": 2
}
